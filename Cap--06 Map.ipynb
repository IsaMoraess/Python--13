{
 "cells": [
  {
   "cell_type": "markdown",
   "id": "1ab9f321",
   "metadata": {},
   "source": [
    "# Funçao Map\n",
    "\n",
    "A funçao map() em Python e uma funçao que aplica uma determinada funçao a acad elemento de uma estrutura de dados iteraveis (como uma lista,tuplaou outro objeto iteravel). A funçao map() retorna um objeto que pode ser convertido em outra estrutura de dados, como uma lista se necessario."
   ]
  },
  {
   "cell_type": "code",
   "execution_count": 1,
   "id": "52670476",
   "metadata": {},
   "outputs": [],
   "source": [
    "# Funçao Python que retorna um numero ao quadrado\n",
    "def potencia (x):\n",
    "    return x ** 2"
   ]
  },
  {
   "cell_type": "code",
   "execution_count": 2,
   "id": "1618c9b0",
   "metadata": {},
   "outputs": [],
   "source": [
    "numeros = [1, 2, 3, 4, 5]"
   ]
  },
  {
   "cell_type": "code",
   "execution_count": 3,
   "id": "5b326ef7",
   "metadata": {},
   "outputs": [],
   "source": [
    "numeros_ao_quadrado = list(map(potencia, numeros))"
   ]
  },
  {
   "cell_type": "code",
   "execution_count": 4,
   "id": "159dabbd",
   "metadata": {},
   "outputs": [
    {
     "name": "stdout",
     "output_type": "stream",
     "text": [
      "[1, 4, 9, 16, 25]\n"
     ]
    }
   ],
   "source": [
    "print(numeros_ao_quadrado)"
   ]
  },
  {
   "cell_type": "code",
   "execution_count": 5,
   "id": "ed5969c4",
   "metadata": {},
   "outputs": [],
   "source": [
    "# Criando duas funçoes \n",
    "\n",
    "# Funçao 1- Recebe uma tempratura como parametro e retorna a temperatura em Fahrenheit\n",
    "def fahrenheit(T):\n",
    "    return ((float(9)/5)*T + 32)\n",
    "\n",
    "# Funçao 2- Recebe uma tempratura como parametro e retorna a temperatura em Celsius\n",
    "def celsius(T):\n",
    "    return (float(5)/9)*(T - 32)"
   ]
  },
  {
   "cell_type": "code",
   "execution_count": 6,
   "id": "5953a166",
   "metadata": {},
   "outputs": [],
   "source": [
    "# Criando uma lista\n",
    "temperatura = [0, 22.5, 40, 100]"
   ]
  },
  {
   "cell_type": "code",
   "execution_count": 7,
   "id": "7f49373e",
   "metadata": {},
   "outputs": [
    {
     "data": {
      "text/plain": [
       "<map at 0x22cbd8150d0>"
      ]
     },
     "execution_count": 7,
     "metadata": {},
     "output_type": "execute_result"
    }
   ],
   "source": [
    "# Aplicando a funçao a cada elemento da lista de temperaturas.\n",
    "# Em Python 3 a funçao map() retorna um interator\n",
    "map(fahrenheit, temperatura)"
   ]
  },
  {
   "cell_type": "code",
   "execution_count": 8,
   "id": "d58b2d2b",
   "metadata": {},
   "outputs": [
    {
     "data": {
      "text/plain": [
       "[32.0, 72.5, 104.0, 212.0]"
      ]
     },
     "execution_count": 8,
     "metadata": {},
     "output_type": "execute_result"
    }
   ],
   "source": [
    "# Funçoes map() retornando a lista de temperaturas convertidas em Fahrenheit\n",
    "list(map(fahrenheit, temperatura))"
   ]
  },
  {
   "cell_type": "code",
   "execution_count": 9,
   "id": "5f1d23f1",
   "metadata": {},
   "outputs": [
    {
     "name": "stdout",
     "output_type": "stream",
     "text": [
      "32.0\n",
      "72.5\n",
      "104.0\n",
      "212.0\n"
     ]
    }
   ],
   "source": [
    "# Usando um loop para imprimir o resultado da funçao map()\n",
    "for tamp in map(fahrenheit, temperatura):\n",
    "    print(tamp)"
   ]
  },
  {
   "cell_type": "code",
   "execution_count": 10,
   "id": "0523262f",
   "metadata": {},
   "outputs": [
    {
     "data": {
      "text/plain": [
       "<map at 0x22cbd815c40>"
      ]
     },
     "execution_count": 10,
     "metadata": {},
     "output_type": "execute_result"
    }
   ],
   "source": [
    "# Convertendo para Celsius \n",
    "map(celsius, temperatura)"
   ]
  },
  {
   "cell_type": "code",
   "execution_count": 11,
   "id": "ee5b7071",
   "metadata": {},
   "outputs": [
    {
     "data": {
      "text/plain": [
       "[32.0, 72.5, 104.0, 212.0]"
      ]
     },
     "execution_count": 11,
     "metadata": {},
     "output_type": "execute_result"
    }
   ],
   "source": [
    "list(map(fahrenheit, temperatura))"
   ]
  },
  {
   "cell_type": "code",
   "execution_count": 12,
   "id": "96d8dc48",
   "metadata": {},
   "outputs": [
    {
     "data": {
      "text/plain": [
       "<map at 0x22cbd8027f0>"
      ]
     },
     "execution_count": 12,
     "metadata": {},
     "output_type": "execute_result"
    }
   ],
   "source": [
    "# Usando expressao lambda\n",
    "map(lambda x: (5.0/9)*(x - 32), temperatura)"
   ]
  },
  {
   "cell_type": "code",
   "execution_count": 13,
   "id": "2b6c05c6",
   "metadata": {},
   "outputs": [
    {
     "data": {
      "text/plain": [
       "[-17.77777777777778, -5.277777777777778, 4.444444444444445, 37.77777777777778]"
      ]
     },
     "execution_count": 13,
     "metadata": {},
     "output_type": "execute_result"
    }
   ],
   "source": [
    "list(map(lambda x: (5.0/9)*(x - 32), temperatura))"
   ]
  },
  {
   "cell_type": "code",
   "execution_count": 14,
   "id": "76612353",
   "metadata": {},
   "outputs": [],
   "source": [
    "# Somando os elementos de 2 listas\n",
    "a = [1, 2, 3, 4]\n",
    "b = [5, 6, 7, 8]"
   ]
  },
  {
   "cell_type": "code",
   "execution_count": 15,
   "id": "4e67e822",
   "metadata": {},
   "outputs": [
    {
     "data": {
      "text/plain": [
       "[6, 8, 10, 12]"
      ]
     },
     "execution_count": 15,
     "metadata": {},
     "output_type": "execute_result"
    }
   ],
   "source": [
    "list(map(lambda x,y:x+y, a, b))"
   ]
  },
  {
   "cell_type": "code",
   "execution_count": 16,
   "id": "81348609",
   "metadata": {},
   "outputs": [],
   "source": [
    "# Somando os elementos de 3 listas\n",
    "a = [1, 2, 3, 4]\n",
    "b = [5, 6, 7, 8]\n",
    "c = [9, 10, 11, 12]"
   ]
  },
  {
   "cell_type": "code",
   "execution_count": 17,
   "id": "e8e58eb0",
   "metadata": {},
   "outputs": [
    {
     "data": {
      "text/plain": [
       "[15, 18, 21, 24]"
      ]
     },
     "execution_count": 17,
     "metadata": {},
     "output_type": "execute_result"
    }
   ],
   "source": [
    "list(map(lambda x, y, z : x + y + z, a, b, c ))"
   ]
  },
  {
   "cell_type": "markdown",
   "id": "f2c21337",
   "metadata": {},
   "source": [
    "# Fim"
   ]
  },
  {
   "cell_type": "code",
   "execution_count": null,
   "id": "d8086c08",
   "metadata": {},
   "outputs": [],
   "source": []
  }
 ],
 "metadata": {
  "kernelspec": {
   "display_name": "Python 3 (ipykernel)",
   "language": "python",
   "name": "python3"
  },
  "language_info": {
   "codemirror_mode": {
    "name": "ipython",
    "version": 3
   },
   "file_extension": ".py",
   "mimetype": "text/x-python",
   "name": "python",
   "nbconvert_exporter": "python",
   "pygments_lexer": "ipython3",
   "version": "3.9.13"
  }
 },
 "nbformat": 4,
 "nbformat_minor": 5
}
